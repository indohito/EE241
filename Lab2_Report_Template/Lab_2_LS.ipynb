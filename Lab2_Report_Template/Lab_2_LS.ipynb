{
 "cells": [
  {
   "cell_type": "markdown",
   "id": "45f15596",
   "metadata": {},
   "source": [
    "##### Author: Jimin Kim (jk55@uw.edu)\n",
    "##### Version 1.5.0"
   ]
  },
  {
   "cell_type": "markdown",
   "id": "386f8fca",
   "metadata": {},
   "source": [
    "# Lab 2 Report"
   ]
  },
  {
   "cell_type": "markdown",
   "id": "f90c1cd2",
   "metadata": {},
   "source": [
    "### Group Members: Akash Shetty, Helen Lai"
   ]
  },
  {
   "cell_type": "code",
   "execution_count": 1,
   "id": "77d02be7",
   "metadata": {},
   "outputs": [],
   "source": [
    "import numpy as np\n"
   ]
  },
  {
   "cell_type": "markdown",
   "id": "d8208d76",
   "metadata": {},
   "source": [
    "# Exercise 1: Loops vs Numpy operations"
   ]
  },
  {
   "cell_type": "markdown",
   "id": "1804ca1d",
   "metadata": {},
   "source": [
    "<img src=\"lab2_exercise1.png\" width=\"1000\">"
   ]
  },
  {
   "cell_type": "code",
   "execution_count": 2,
   "id": "03d6479d",
   "metadata": {},
   "outputs": [],
   "source": [
    "import time # Import time to measure computational efficiency of the code"
   ]
  },
  {
   "cell_type": "code",
   "execution_count": 3,
   "id": "05eb4964",
   "metadata": {},
   "outputs": [],
   "source": [
    "arr2d_1 = np.random.randn(1000, 1000) * 10\n",
    "arr2d_2 = np.random.randn(1000, 1000) * 10"
   ]
  },
  {
   "cell_type": "code",
   "execution_count": 4,
   "id": "e882592a",
   "metadata": {},
   "outputs": [
    {
     "name": "stdout",
     "output_type": "stream",
     "text": [
      "0.8747608661651611\n"
     ]
    }
   ],
   "source": [
    "# Elementwise addition using loop\n",
    "\n",
    "arr2d_3_loop = np.zeros((1000, 1000)) # Create a placeholder array for arr2d_3\n",
    "\n",
    "start_time_loop = time.time() # start time of the code\n",
    "for i in range(0,1000):\n",
    "    for j in range(0,1000) :\n",
    "        arr2d_3_loop[i][j] = (arr2d_1[i][j]+arr2d_2[i][j])\n",
    "# YOUR CODE HERE FOR ELEMENTWISE ADDITION USING TWO NESTED LOOPS\n",
    "\n",
    "end_time_loop = time.time() # end time of the code\n",
    "\n",
    "elapsed_time_loop = end_time_loop - start_time_loop # end time - start time -> elapsed time in seconds\n",
    "print(elapsed_time_loop)"
   ]
  },
  {
   "cell_type": "code",
   "execution_count": 5,
   "id": "0086daf9",
   "metadata": {},
   "outputs": [
    {
     "name": "stdout",
     "output_type": "stream",
     "text": [
      "0.0\n"
     ]
    }
   ],
   "source": [
    "# Elementwise addition using Numpy function\n",
    "\n",
    "start_time_np = time.time()\n",
    "\n",
    "arr2d_3_np = np.add(arr2d_1, arr2d_2)\n",
    "\n",
    "end_time_np = time.time()\n",
    "\n",
    "elapsed_time_np = end_time_np - start_time_np\n",
    "print(elapsed_time_np)"
   ]
  },
  {
   "cell_type": "code",
   "execution_count": 6,
   "id": "218b68fe",
   "metadata": {},
   "outputs": [
    {
     "data": {
      "text/plain": [
       "True"
      ]
     },
     "execution_count": 6,
     "metadata": {},
     "output_type": "execute_result"
    }
   ],
   "source": [
    "# Make sure two outputs are equivalent\n",
    "\n",
    "np.sum(arr2d_3_loop == arr2d_3_np) == 1000 * 1000 # Should output True if the outputs are same"
   ]
  },
  {
   "cell_type": "markdown",
   "id": "f6353d1b",
   "metadata": {},
   "source": [
    "### Which computation is faster and by what factor?\n",
    "### e.g. a code that takes 0.1s is faster by a factor of 10 compared to a code that takes 1s"
   ]
  },
  {
   "cell_type": "code",
   "execution_count": 7,
   "id": "f968be55",
   "metadata": {},
   "outputs": [],
   "source": [
    "#The numpy computation is faster by a facor of 302"
   ]
  },
  {
   "cell_type": "markdown",
   "id": "b5f232b7",
   "metadata": {},
   "source": [
    "# Exercise 2: Generate Triangular Waveform"
   ]
  },
  {
   "cell_type": "markdown",
   "id": "52290bf7",
   "metadata": {},
   "source": [
    "<img src=\"lab2_exercise2.png\" width=\"1000\">"
   ]
  },
  {
   "cell_type": "code",
   "execution_count": 8,
   "id": "6f08c981",
   "metadata": {},
   "outputs": [
    {
     "data": {
      "text/plain": [
       "<StemContainer object of 3 artists>"
      ]
     },
     "execution_count": 8,
     "metadata": {},
     "output_type": "execute_result"
    },
    {
     "data": {
      "image/png": "[encoded data removed]",
      "text/plain": [
       "<Figure size 432x288 with 1 Axes>"
      ]
     },
     "metadata": {
      "needs_background": "light"
     },
     "output_type": "display_data"
    }
   ],
   "source": [
    "# Your code here\n",
    "\n",
    "import matplotlib.pyplot as plt\n",
    "\n",
    "# sets the values of the waveform for the time range\n",
    "x = np.arange(0,6,1/10)\n",
    "y1 = x[0:11]*2-1\n",
    "y2 = x[11:21]*-2+3\n",
    "y3 = x[21:31]*2-5\n",
    "y4 = x[31:41]*-2+7\n",
    "y5 = x[41:51]*2-9\n",
    "y6 = x[51:61]*-2+11\n",
    "\n",
    "# concatenates values to get waveform\n",
    "y = np.concatenate((y1,y2,y3,y4,y5,y6))\n",
    "\n",
    "# plots values on graph between 0-6 seconds and a y limit of -1,1 with a stem style plot\n",
    "plt.xlim(0,6)\n",
    "plt.ylim(-1,1)\n",
    "plt.stem(x,y)\n",
    "        \n",
    "\n",
    "        \n",
    "    "
   ]
  },
  {
   "cell_type": "markdown",
   "id": "e7e50cec",
   "metadata": {},
   "source": [
    "# Exercise 3: Sinusoidal Generator"
   ]
  },
  {
   "cell_type": "markdown",
   "id": "c9c52034",
   "metadata": {},
   "source": [
    "<img src=\"lab2_exercise3.png\" width=\"1000\">"
   ]
  },
  {
   "cell_type": "code",
   "execution_count": 9,
   "id": "295369c6",
   "metadata": {},
   "outputs": [],
   "source": [
    "# Define generate_sine function\n",
    "\n",
    "def generate_sine(t_duration, f0, fs):\n",
    "    # aranges t between t and given duration with a spacing of 1/sampling frequency\n",
    "    t_arr = np.arange(0,t_duration,1/fs)\n",
    "    amplitudes = np.sin(2*np.pi*f0*t_arr)\n",
    "    \n",
    "    \n",
    "    # Return 1D numpy arrays each containing timepoints and sine waveform amplitudes\n",
    "    return t_arr, amplitudes "
   ]
  },
  {
   "cell_type": "code",
   "execution_count": 10,
   "id": "cbef858d",
   "metadata": {},
   "outputs": [],
   "source": [
    "# parameter set 1\n",
    "t_duration_1 = 5\n",
    "f0_1 = 0.5\n",
    "fs_1 = 100\n",
    "t_arr_1, amplitudes_1 = generate_sine(t_duration_1, f0_1, fs_1)\n",
    "# parameter set 2\n",
    "t_duration_2 = 5\n",
    "f0_2 = 1.\n",
    "fs_2 = 100\n",
    "t_arr_2, amplitudes_2 = generate_sine(t_duration_2, f0_2, fs_2)\n",
    "\n",
    "# parameter set 3\n",
    "t_duration_3 = 5\n",
    "f0_3 = 1.5\n",
    "fs_3 = 100\n",
    "t_arr_3, amplitudes_3 = generate_sine(t_duration_3, f0_3, fs_3)"
   ]
  },
  {
   "cell_type": "code",
   "execution_count": 17,
   "id": "12f637bc",
   "metadata": {},
   "outputs": [
    {
     "data": {
      "text/plain": [
       "Text(0, 0.5, 'y')"
      ]
     },
     "execution_count": 17,
     "metadata": {},
     "output_type": "execute_result"
    },
    {
     "data": {
      "image/png": "[encoded data removed]",
      "text/plain": [
       "<Figure size 432x288 with 3 Axes>"
      ]
     },
     "metadata": {
      "needs_background": "light"
     },
     "output_type": "display_data"
    }
   ],
   "source": [
    "# Plot 3 x 1 subplot showing all three waveform\n",
    "# first subplot of waveform\n",
    "plt.subplot (311)\n",
    "plt.plot(t_arr_1, amplitudes_1)\n",
    "plt.title(\"sin(x)\")\n",
    "plt.xlabel('x')\n",
    "plt.ylabel('y')\n",
    "# second subplot of waveform\n",
    "plt.subplot (312)\n",
    "plt.plot(t_arr_2, amplitudes_2)\n",
    "plt.title(\"sin(x)\")\n",
    "plt.xlabel('x')\n",
    "plt.ylabel('y')\n",
    "# second subplot of waveform\n",
    "plt.subplot (313)\n",
    "plt.plot(t_arr_3, amplitudes_3)\n",
    "plt.title(\"sin(x)\")\n",
    "plt.xlabel('x')\n",
    "plt.ylabel('y')\n",
    "\n"
   ]
  },
  {
   "cell_type": "markdown",
   "id": "8900ccf3",
   "metadata": {},
   "source": [
    "# Exercise 4: Notes Synthesis"
   ]
  },
  {
   "cell_type": "markdown",
   "id": "9c1e3145",
   "metadata": {},
   "source": [
    "<img src=\"lab2_exercise4.png\" width=\"1000\">"
   ]
  },
  {
   "cell_type": "code",
   "execution_count": 21,
   "id": "3f2407e5",
   "metadata": {},
   "outputs": [],
   "source": [
    "\n",
    "from scipy.io import wavfile as wav\n",
    "import simpleaudio as sa\n",
    "#Uses our generate sin function to create waveforms of the notes that are given\n",
    "_,A_1 =  generate_sine(1, 220, 8000)\n",
    "_,B =  generate_sine(1, 220*(2**(2/12)), 8000)\n",
    "_,Csharp =  generate_sine(1, 220*(2**(4/12)), 8000)\n",
    "_,D =  generate_sine(1, 220*(2**(5/12)), 8000)\n",
    "_,E =  generate_sine(1, 220*(2**(7/12)), 8000)\n",
    "_,Fsharp =  generate_sine(1, 220*(2**(9/12)), 8000)\n",
    "_,Gsharp =  generate_sine(1, 220*(2**(11/12)), 8000)\n",
    "_,A_2 =  generate_sine(1, 440, 8000)\n",
    "\n",
    "# concatenates the notes into a 1D array\n",
    "A_major_scale = np.concatenate((A_1,B,Csharp,D,E,Fsharp,Gsharp,A_2))\n"
   ]
  },
  {
   "cell_type": "code",
   "execution_count": 22,
   "id": "0ca4a13d",
   "metadata": {},
   "outputs": [],
   "source": [
    "# NOTE: Multiply your concatenated notes (with amplitude of 1) with 32767 followed by conversion to int16 format\n",
    "A_major_file_scale = A_major_scale * 32767\n",
    "outfile = \"a_major_scale.wav\"\n",
    "wav.write(outfile,8000,A_major_file_scale.astype(\"int16\"))\n",
    "\n",
    "# before playing or writing your audio array into a file. \n",
    "wav_obj = sa.WaveObject.from_wave_file(\"a_major_scale.wav\")\n",
    "play_obj = wav_obj.play()\n",
    "play_obj.wait_done()"
   ]
  },
  {
   "cell_type": "markdown",
   "id": "6e9e2bf5",
   "metadata": {},
   "source": [
    "# Exercise 5: Chord Synthesis"
   ]
  },
  {
   "cell_type": "markdown",
   "id": "edd24d11",
   "metadata": {},
   "source": [
    "<img src=\"lab2_exercise5.png\" width=\"1000\">"
   ]
  },
  {
   "cell_type": "code",
   "execution_count": 18,
   "id": "d7d9a753",
   "metadata": {},
   "outputs": [],
   "source": [
    "\n",
    "# adds our notes together to create chord with /2 to account for amplitude changes\n",
    "Chord_1 = np.add(A_1,Csharp)/2\n",
    "Chord_2 = np.add(B,D)/2\n",
    "Chord_3 = np.add(Csharp,E)/2\n",
    "Chord_4 = np.add(D,Fsharp)/2\n",
    "Chord_5 = np.add(E,Gsharp)/2\n",
    "Chord_6 = np.add(Fsharp,A_2)/2\n",
    "\n",
    "\n",
    "# concatenates our chords into a 1D array\n",
    "Chord_scale = np.concatenate((Chord_1,Chord_2,Chord_3,Chord_4,Chord_5,Chord_6))"
   ]
  },
  {
   "cell_type": "code",
   "execution_count": 20,
   "id": "b1883f16",
   "metadata": {},
   "outputs": [],
   "source": [
    "# NOTE: Multiply your concatenated notes (with amplitude of 1) with 32767 followed by conversion to int16 format\n",
    "# before playing or writing your audio array into a file. \n",
    "Chord_file_scale = Chord_scale * 32767\n",
    "outfile = \"6_chords.wav\"\n",
    "wav.write(outfile,8000,Chord_file_scale.astype(\"int16\"))\n",
    "\n",
    "# before playing or writing your audio array into a file. \n",
    "wav_obj = sa.WaveObject.from_wave_file(\"6_chords.wav\")\n",
    "play_obj = wav_obj.play()\n",
    "play_obj.wait_done()"
   ]
  },
  {
   "cell_type": "code",
   "execution_count": null,
   "id": "bbadd0c9",
   "metadata": {},
   "outputs": [],
   "source": []
  },
  {
   "cell_type": "code",
   "execution_count": null,
   "id": "cea75ddb",
   "metadata": {},
   "outputs": [],
   "source": []
  }
 ],
 "metadata": {
  "kernelspec": {
   "display_name": "Python 3 (ipykernel)",
   "language": "python",
   "name": "python3"
  },
  "language_info": {
   "codemirror_mode": {
    "name": "ipython",
    "version": 3
   },
   "file_extension": ".py",
   "mimetype": "text/x-python",
   "name": "python",
   "nbconvert_exporter": "python",
   "pygments_lexer": "ipython3",
   "version": "3.9.7"
  }
 },
 "nbformat": 4,
 "nbformat_minor": 5
}
